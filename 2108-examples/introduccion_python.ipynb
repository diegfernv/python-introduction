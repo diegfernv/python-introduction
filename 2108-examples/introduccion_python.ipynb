{
 "cells": [
  {
   "cell_type": "markdown",
   "metadata": {},
   "source": [
    "Consultas sobre Python pueden realizarlas con\n",
    "\n",
    "Diego Fernández: diego.fernandez@umag.cl\n",
    "\n",
    "## Python\n",
    "\n",
    "Lenguaje de programación de alto nivel muy versátil para múltiples aplicaciones como desarrollo web, análisis de datos, inteligencia artificial, automatización de tareas o desarrollo de juegos.\n",
    "\n",
    "Instalación en linux:\n",
    "\n",
    "```bash\n",
    "sudo apt install python3\n",
    "```\n",
    "\n",
    "Conocer su version actual de python:\n",
    "\n",
    "```bash\n",
    "python --version\n",
    "```\n",
    "\n",
    "Para conocer desde donde estoy ejecutando python o pip (Importante a la hora de saber si estoy instalando los paquetes en la direccion correcta)\n",
    "\n",
    "```bash\n",
    "# Desde donde estoy ejecutando python\n",
    "which python\n",
    "# Desde donde estoy ejecutando pip\n",
    "which pip\n",
    "```\n",
    "\n",
    "### Paquetes de python\n",
    "Los paquetes de Python son colecciones de módulos y funciones que extienden las capacidades del lenguaje. Estos paquetes nos permite reutilizar código y agregar funcionalidades específicas a los proyectos sin tener que escribir todo desde cero. Equivalente al uso de librerias externas en C como Allegro5\n",
    "\n",
    "### Instalacion de paquetes en python\n",
    "Utilizando pip, un gestor de paquetes estándar en python se pueden instalar los paquetes.\n",
    "\n",
    "Para **instalar** el paquete pandas puedes utilizar:\n",
    "\n",
    "```bash\n",
    "pip install pandas sklearn seaborn matplotlib\n",
    "```\n",
    "\n",
    "Si quieres instalar una **versión específica** de un paquete puedes instalarlo de la siguiente manera:\n",
    "\n",
    "```bash\n",
    "pip install numpy==1.21.0\n",
    "```\n",
    "\n",
    "Para **actualizar** un paquete a su ultima versión puedes utilizar:\n",
    "\n",
    "```bash\n",
    "pip install --upgrade nombre_del_paquete\n",
    "```\n",
    "\n",
    "Para instalar desde un **archivo** requirements.txt\n",
    "\n",
    "```bash\n",
    "pip install -r requirements.txt\n",
    "```\n",
    "\n",
    "Es importante mencionar que en algunos sistemas podrías necesitar usar pip3 en lugar de pip si tienes múltiples versiones de Python instaladas.\n",
    "\n",
    "Recuerda que es una buena práctica usar entornos virtuales para aislar las dependencias de tus proyectos y evitar conflictos entre diferentes versiones de paquetes.\n",
    "\n",
    "### Exportar paquetes utilizados en el ambiente\n",
    "Es importante que, como programadores nos preocupemos de la reusabilidad de nuestros proyectos en otros equipos. Debemos minimizar en lo posible errores típicos como \"funciona en mi pc pero en este pc no\".\n",
    "\n",
    "Para ello pueden mostrar los paquetes y sus versiones de **TODO** el ambiente con:\n",
    "\n",
    "```bash\n",
    "pip freeze\n",
    "```\n",
    "\n",
    "O exportarlo con:\n",
    "\n",
    "```bash\n",
    "pip freeze > requirements.txt\n",
    "```\n",
    "\n",
    "Sin embargo, si quieren exportar solo los paquetes utilizados en su proyecto pueden utilizar pipreqs:\n",
    "\n",
    "```bash\n",
    "pip install pipreqs\n",
    "```\n",
    "\n",
    "Una vez instalado ejecutar:\n",
    "\n",
    "```bash\n",
    "pipreqs /path/to/project\n",
    "```\n",
    "\n",
    "## Conda\n",
    "(Otra opcion: Micromamba)\n",
    "\n",
    "Comandos basicos de conda\n",
    "\n",
    "```bash\n",
    "# Crear un nuevo ambiente con Conda\n",
    "conda create -n nombre_del_ambiente\n",
    "\n",
    "# Activar un ambiente con Conda\n",
    "conda activate nombre_del_ambiente\n",
    "\n",
    "# Desactivar un ambiente con Conda\n",
    "conda deactivate\n",
    "\n",
    "# Listar todos los ambientes con Conda\n",
    "conda env list\n",
    "\n",
    "# Instalar un paquete en un ambiente con Conda\n",
    "conda install -n nombre_del_ambiente nombre_del_paquete\n",
    "\n",
    "# Desinstalar un paquete de un ambiente con Conda\n",
    "conda remove -n nombre_del_ambiente nombre_del_paquete\n",
    "\n",
    "# Actualizar un paquete en un ambiente con Conda\n",
    "conda update -n nombre_del_ambiente nombre_del_paquete\n",
    "\n",
    "# Exportar un ambiente con Conda a un archivo YAML\n",
    "conda env export -n nombre_del_ambiente > environment.yml\n",
    "\n",
    "# Crear un ambiente a partir de un archivo YAML\n",
    "conda env create -f environment.yml\n",
    "```\n",
    "\n",
    "## Jupyter\n",
    "\n",
    "Jupyter es una plataforma de código abierto que permite crear y compartir documentos interactivos llamados \"notebooks\". Estos notebooks combinan código, texto explicativo, visualizaciones y otros elementos en un solo archivo. Jupyter es muy utilizado en el ámbito de la ciencia de datos y el aprendizaje automático, ya que permite ejecutar y visualizar el resultado de fragmentos de código de forma interactiva. Además, Jupyter es compatible con varios lenguajes de programación, incluyendo Python, R y Julia."
   ]
  },
  {
   "cell_type": "markdown",
   "metadata": {},
   "source": [
    "# Sintaxis de python, ejemplos y más"
   ]
  },
  {
   "cell_type": "markdown",
   "metadata": {},
   "source": [
    "### Impresión por pantalla"
   ]
  },
  {
   "cell_type": "code",
   "execution_count": 1,
   "metadata": {},
   "outputs": [
    {
     "name": "stdout",
     "output_type": "stream",
     "text": [
      "Hola Diego\n",
      "Hola Diego\n",
      "Hola Diego\n"
     ]
    }
   ],
   "source": [
    "# Puedes imprimir utilizando diferentes métodos, por ejemplo\n",
    "nombre = \"Diego\"\n",
    "print(\"Hola \" + nombre)\n",
    "print(f\"Hola {nombre}\")\n",
    "print(\"Hola\",nombre)"
   ]
  },
  {
   "cell_type": "markdown",
   "metadata": {},
   "source": [
    "### Declaración de variables\n",
    "A diferencia de C, python es de tipado **dinámico** eso quiere decir que no es necesario declarar el tipo de variable. Este se determina en tiempo de ejecución"
   ]
  },
  {
   "cell_type": "code",
   "execution_count": 2,
   "metadata": {},
   "outputs": [
    {
     "name": "stdout",
     "output_type": "stream",
     "text": [
      "10 3.4 Hola True 3\n",
      "<class 'int'> <class 'float'> <class 'str'> <class 'bool'> <class 'int'>\n"
     ]
    }
   ],
   "source": [
    "# En c\n",
    "# int x = 10;\n",
    "# x = \"Hola\"; // Causa error\n",
    "# ========================================\n",
    "# \n",
    "# En python no es necesario declarar el tipo de variable...\n",
    "\n",
    "integer = 10\n",
    "flotante = 3.4\n",
    "caracter = \"Hola\"\n",
    "booleano = True\n",
    "cast = int(flotante)\n",
    "print(integer,flotante,caracter,booleano,cast) \n",
    "print(type(integer),type(flotante),type(caracter),type(booleano),type(cast))"
   ]
  },
  {
   "cell_type": "markdown",
   "metadata": {},
   "source": [
    "### Suma resta multiplicación, división, etc"
   ]
  },
  {
   "cell_type": "code",
   "execution_count": 3,
   "metadata": {},
   "outputs": [
    {
     "name": "stdout",
     "output_type": "stream",
     "text": [
      "=== Operaciones ===\n",
      "5\n",
      "-1\n",
      "6\n",
      "0.6666666666666666\n",
      "8\n",
      "=== Strings ===\n",
      "Hola Mundo\n",
      "HolaHolaHola\n",
      "=== Booleanos ===\n",
      "False\n",
      "True\n",
      "False\n"
     ]
    }
   ],
   "source": [
    "a = 2\n",
    "b = 3\n",
    "\n",
    "print(\"=== Operaciones ===\")\n",
    "print(a + b)\n",
    "print(a - b)\n",
    "print(a*b)\n",
    "print(a/b)\n",
    "print(a**b)\n",
    "\n",
    "# Adicionalmente, puedes hacer operaciones con strings\n",
    "print(\"=== Strings ===\")\n",
    "print(\"Hola\" + \" Mundo\")\n",
    "print(\"Hola\" * 3)\n",
    "\n",
    "# Puedes hacer operaciones con booleanos\n",
    "print(\"=== Booleanos ===\")\n",
    "print(True and False)\n",
    "print(True or False)\n",
    "print(not True)"
   ]
  },
  {
   "cell_type": "markdown",
   "metadata": {},
   "source": [
    "### Indentación\n",
    "Python usa la indentación para definir bloques de código. La indentación es **obligatoria** y afecta directamente a la estructura del programa"
   ]
  },
  {
   "cell_type": "code",
   "execution_count": 6,
   "metadata": {},
   "outputs": [
    {
     "name": "stdout",
     "output_type": "stream",
     "text": [
      "8 es mayor que 3\n"
     ]
    }
   ],
   "source": [
    "x = 8\n",
    "y = 3\n",
    "\n",
    "if x > y:\n",
    "    print(f\"{x} es mayor que {y}\")"
   ]
  },
  {
   "cell_type": "markdown",
   "metadata": {},
   "source": [
    "### Multiples condiciones"
   ]
  },
  {
   "cell_type": "code",
   "execution_count": 7,
   "metadata": {},
   "outputs": [
    {
     "name": "stdout",
     "output_type": "stream",
     "text": [
      "{y} < {x} < {z}\n",
      "Al menos una condición es verdadera\n"
     ]
    }
   ],
   "source": [
    "x = 8\n",
    "y = 3\n",
    "z = 10\n",
    "\n",
    "if x > y and z > x:\n",
    "    print(\"{y} < {x} < {z}\")\n",
    "\n",
    "if x == 8 or y > 5:\n",
    "    print(\"Al menos una condición es verdadera\")\n",
    "\n",
    "if not (x < z):\n",
    "    print(\"La condición es falsa\")"
   ]
  },
  {
   "cell_type": "markdown",
   "metadata": {},
   "source": [
    "### Ingreso de usuario\n",
    "**IMPORTANTE** En VSCode la 'caja' de input aparece en la parte superior de la pantalla"
   ]
  },
  {
   "cell_type": "code",
   "execution_count": 8,
   "metadata": {},
   "outputs": [
    {
     "name": "stdout",
     "output_type": "stream",
     "text": [
      "Ha seleccionado la opcion 1\n"
     ]
    }
   ],
   "source": [
    "opcion = int(input(\"Ingrese una opcion: \"))\n",
    "\n",
    "if opcion == 1:\n",
    "\tprint(\"Ha seleccionado la opcion 1\")\n",
    "elif opcion == 2:\n",
    "\tprint(\"Ha seleccionado la opcion 2\")\n",
    "else:\n",
    "\tprint(\"Opcion no valida\")"
   ]
  },
  {
   "cell_type": "markdown",
   "metadata": {},
   "source": [
    "### Loops"
   ]
  },
  {
   "cell_type": "code",
   "execution_count": null,
   "metadata": {},
   "outputs": [
    {
     "name": "stdout",
     "output_type": "stream",
     "text": [
      "0\n",
      "1\n",
      "2\n",
      "3\n",
      "4\n"
     ]
    }
   ],
   "source": [
    "# Loop simple\n",
    "integer = 0\n",
    "while integer < 5:\n",
    "    print(integer)\n",
    "    integer += 1"
   ]
  },
  {
   "cell_type": "code",
   "execution_count": null,
   "metadata": {},
   "outputs": [
    {
     "name": "stdout",
     "output_type": "stream",
     "text": [
      "5\n",
      "6\n",
      "7\n",
      "8\n",
      "9\n"
     ]
    }
   ],
   "source": [
    "# Loop con condicion AND\n",
    "# Notar que pueden utilizarse operadores lógicos como AND, OR y NOT\n",
    "# en las condiciones de los loops\n",
    "integer = 5\n",
    "while integer >= 5 and integer < 10:\n",
    "\tprint(integer)\n",
    "\tinteger += 1\n",
    "# Imprime numeros del 5 al 9"
   ]
  },
  {
   "cell_type": "code",
   "execution_count": 11,
   "metadata": {},
   "outputs": [
    {
     "name": "stdout",
     "output_type": "stream",
     "text": [
      "0\n",
      "1\n",
      "2\n",
      "3\n",
      "4\n"
     ]
    }
   ],
   "source": [
    "# Loops desde 0 hasta n-1\n",
    "n = 5\n",
    "for i in range(n):\n",
    "    print(i)"
   ]
  },
  {
   "cell_type": "code",
   "execution_count": 2,
   "metadata": {},
   "outputs": [
    {
     "name": "stdout",
     "output_type": "stream",
     "text": [
      "1\n",
      "2\n",
      "3\n",
      "4\n",
      "5\n",
      "6\n",
      "7\n",
      "8\n",
      "9\n",
      "10\n"
     ]
    }
   ],
   "source": [
    "# Loops de 1 a 10\n",
    "for i in range(1, 11):\n",
    "\tprint(i)"
   ]
  },
  {
   "cell_type": "code",
   "execution_count": 1,
   "metadata": {},
   "outputs": [
    {
     "name": "stdout",
     "output_type": "stream",
     "text": [
      "H\n",
      "o\n",
      "l\n",
      "a\n"
     ]
    }
   ],
   "source": [
    "# También puedes hacer loops con un string (en el fondo, un string es una lista de caracteres)\n",
    "mensaje = \"Hola\"\n",
    "for letra in mensaje:\n",
    "    print(letra)"
   ]
  },
  {
   "cell_type": "code",
   "execution_count": 4,
   "metadata": {},
   "outputs": [
    {
     "name": "stdout",
     "output_type": "stream",
     "text": [
      "Has escrito: Hola\n",
      "Has escrito: Como\n",
      "Has escrito: Estas\n"
     ]
    }
   ],
   "source": [
    "while True:\n",
    "    entrada = input(\"Escribe 'salir' para terminar: \")\n",
    "    if entrada == 'salir':\n",
    "        break\n",
    "    print(f\"Has escrito: {entrada}\")"
   ]
  },
  {
   "cell_type": "markdown",
   "metadata": {},
   "source": [
    "### Funciones"
   ]
  },
  {
   "cell_type": "code",
   "execution_count": 6,
   "metadata": {},
   "outputs": [],
   "source": [
    "# Para asegurar buenas prácticas, es recomendable utilizar tipos de datos específicos\n",
    "# y anotaciones de tipo en las funciones.\n",
    "# Esto ayuda a la legibilidad y mantenimiento del código.\n",
    "# Aquí un ejemplo de una función que suma dos enteros y retorna un entero.\n",
    "# Los parámetros y sus tipos estan definidos como = variable: tipo\n",
    "# y el tipo de retorno como = -> tipo\n",
    "def suma(a: int, b: int) -> int:\n",
    "    return a + b"
   ]
  },
  {
   "cell_type": "code",
   "execution_count": 7,
   "metadata": {},
   "outputs": [
    {
     "data": {
      "text/plain": [
       "5"
      ]
     },
     "execution_count": 7,
     "metadata": {},
     "output_type": "execute_result"
    }
   ],
   "source": [
    "suma(2, 3)"
   ]
  },
  {
   "cell_type": "code",
   "execution_count": 8,
   "metadata": {},
   "outputs": [],
   "source": [
    "# Python permite tambièn retornar más de un valor\n",
    "def suma_resta(a, b):\n",
    "    return a + b, a - b"
   ]
  },
  {
   "cell_type": "code",
   "execution_count": 9,
   "metadata": {},
   "outputs": [
    {
     "name": "stdout",
     "output_type": "stream",
     "text": [
      "8\n",
      "2\n"
     ]
    }
   ],
   "source": [
    "# Notar que el orden de los valores retornados es importante\n",
    "# y se pueden asignar a variables diferentes\n",
    "# en el orden que se desee.\n",
    "# En este caso, la suma se asigna a la variable suma\n",
    "# y la resta a la variable resta.\n",
    "suma, resta = suma_resta(5, 3)\n",
    "print(suma)\n",
    "print(resta)"
   ]
  },
  {
   "cell_type": "code",
   "execution_count": 10,
   "metadata": {},
   "outputs": [],
   "source": [
    "# Puedes definir funciones con valores por defecto\n",
    "def saludar(nombre: str = \"Diego\"):\n",
    "    print(f\"Hola {nombre}\")"
   ]
  },
  {
   "cell_type": "code",
   "execution_count": 11,
   "metadata": {},
   "outputs": [
    {
     "name": "stdout",
     "output_type": "stream",
     "text": [
      "Hola Diego\n",
      "Hola Juan\n"
     ]
    }
   ],
   "source": [
    "saludar()\n",
    "saludar(\"Juan\")"
   ]
  },
  {
   "cell_type": "code",
   "execution_count": 13,
   "metadata": {},
   "outputs": [
    {
     "name": "stdout",
     "output_type": "stream",
     "text": [
      "Hola desde la función main\n"
     ]
    }
   ],
   "source": [
    "# Funcion main en python (no es obligatorio)\n",
    "# Esta función se ejecutará si el script es ejecutado directamente (no si es importado)\n",
    "# Es una buena práctica definir una función main para organizar el código.\n",
    "# Puedes llamarla al final del script para que se ejecute automáticamente.\n",
    "# Aunque no es obligatorio, es una convención común en muchos lenguajes de programación.\n",
    "def main():\n",
    "    print(\"Hola desde la función main\")\n",
    "\n",
    "if __name__ == \"__main__\":\n",
    "    main()\n"
   ]
  },
  {
   "cell_type": "markdown",
   "metadata": {},
   "source": [
    "## Estructuras de datos en python"
   ]
  },
  {
   "cell_type": "markdown",
   "metadata": {},
   "source": [
    "### Listas\n",
    "Las listas son arreglos dinámicos en python (no es necesario definir el tamaño). Puedes almacenar elementos de diferentes tipos en una lista y modificarlos después de la creación de la lista."
   ]
  },
  {
   "cell_type": "code",
   "execution_count": 18,
   "metadata": {},
   "outputs": [
    {
     "name": "stdout",
     "output_type": "stream",
     "text": [
      "[1, 2, 3, 4, 5, 6]\n",
      "1\n",
      "[2, 3]\n",
      "6\n",
      "6\n"
     ]
    }
   ],
   "source": [
    "# las listas son arreglos dinámicos en python (no es necesario definir el tamaño) y pueden contener diferentes tipos de datos en una misma lista\n",
    "lista = [1, 2, 3, 4, 5, 6]\n",
    "print(lista)\n",
    "print(lista[0]) # imprime el primer elemento\n",
    "print(lista[1:3]) # imprime los elementos desde el índice 1 hasta el 3 (sin incluirlo)\n",
    "print(lista[-1]) # imprime el último elemento\n",
    "print(len(lista)) # imprime la longitud de la lista\n"
   ]
  },
  {
   "cell_type": "code",
   "execution_count": 19,
   "metadata": {},
   "outputs": [
    {
     "name": "stdout",
     "output_type": "stream",
     "text": [
      "[1, 2, 3, 4, 5, 6, 6]\n"
     ]
    }
   ],
   "source": [
    "lista.append(6) # agrega un elemento al final de la lista\n",
    "print(lista)"
   ]
  },
  {
   "cell_type": "code",
   "execution_count": 20,
   "metadata": {},
   "outputs": [
    {
     "name": "stdout",
     "output_type": "stream",
     "text": [
      "[1, 2, 4, 5, 6, 6]\n"
     ]
    }
   ],
   "source": [
    "lista.remove(3) # elimina el primer elemento con el valor 3\n",
    "print(lista)"
   ]
  },
  {
   "cell_type": "code",
   "execution_count": 21,
   "metadata": {},
   "outputs": [
    {
     "name": "stdout",
     "output_type": "stream",
     "text": [
      "[1, 'Hola', True, 3.4]\n"
     ]
    }
   ],
   "source": [
    "lista_mixta = [1, \"Hola\", True, 3.4] # una lista puede contener diferentes tipos de datos\n",
    "print(lista_mixta)"
   ]
  },
  {
   "cell_type": "code",
   "execution_count": 22,
   "metadata": {},
   "outputs": [
    {
     "name": "stdout",
     "output_type": "stream",
     "text": [
      "1\n",
      "2\n",
      "4\n",
      "5\n",
      "6\n",
      "6\n"
     ]
    }
   ],
   "source": [
    "for elemento in lista:\n",
    "    print(elemento)"
   ]
  },
  {
   "cell_type": "code",
   "execution_count": 23,
   "metadata": {},
   "outputs": [
    {
     "name": "stdout",
     "output_type": "stream",
     "text": [
      "[[1, 2], [3, 4], [5, 6]]\n"
     ]
    }
   ],
   "source": [
    "lista_de_listas = [[1, 2], [3, 4], [5, 6]]\n",
    "print(lista_de_listas)"
   ]
  },
  {
   "cell_type": "code",
   "execution_count": 24,
   "metadata": {},
   "outputs": [
    {
     "name": "stdout",
     "output_type": "stream",
     "text": [
      "[1, 2, 4, 5, 6, 6]\n",
      "[2, 4]\n",
      "[1, 2, 4]\n",
      "[5, 6, 6]\n",
      "[1, 2, 4, 5, 6, 6]\n",
      "[6, 6, 5, 4, 2, 1]\n"
     ]
    }
   ],
   "source": [
    "print(lista)\n",
    "# Las listas pueden ser divididas en sublistas\n",
    "sublista = lista[1:3]\n",
    "print(sublista)\n",
    "sublista = lista[:3] # desde el inicio hasta el índice 3\n",
    "print(sublista)\n",
    "sublista = lista[3:] # desde el índice 3 hasta el final\n",
    "print(sublista)\n",
    "sublista = lista[:] # copia la lista completa\n",
    "print(sublista)\n",
    "sublista = lista[::-1] # invierte la lista\n",
    "print(sublista)\n",
    "# [inicio:fin:paso]"
   ]
  },
  {
   "cell_type": "code",
   "execution_count": 26,
   "metadata": {},
   "outputs": [
    {
     "name": "stdout",
     "output_type": "stream",
     "text": [
      "[5, 4, 3, 2, 1]\n"
     ]
    }
   ],
   "source": [
    "# Metodos de listas\n",
    "lista = [1, 2, 3, 4, 5]\n",
    "lista.reverse() # invierte la lista\n",
    "print(lista)\n"
   ]
  },
  {
   "cell_type": "code",
   "execution_count": 27,
   "metadata": {},
   "outputs": [
    {
     "name": "stdout",
     "output_type": "stream",
     "text": [
      "[1, 2, 3, 4, 5]\n"
     ]
    }
   ],
   "source": [
    "lista = [5, 3, 1, 4, 2]\n",
    "lista.sort() # ordena la lista\n",
    "print(lista)"
   ]
  },
  {
   "cell_type": "code",
   "execution_count": 28,
   "metadata": {},
   "outputs": [
    {
     "name": "stdout",
     "output_type": "stream",
     "text": [
      "[5, 4, 3, 2, 1]\n"
     ]
    }
   ],
   "source": [
    "lista = [1, 2, 3, 4, 5]\n",
    "lista.sort(reverse=True) # ordena la lista de forma descendente\n",
    "print(lista)"
   ]
  },
  {
   "cell_type": "code",
   "execution_count": 29,
   "metadata": {},
   "outputs": [
    {
     "name": "stdout",
     "output_type": "stream",
     "text": [
      "[1, 2, 6, 3, 4, 5]\n"
     ]
    }
   ],
   "source": [
    "lista = [1, 2, 3, 4, 5]\n",
    "lista.insert(2, 6) # inserta el valor 6 en el índice 2\n",
    "print(lista)"
   ]
  },
  {
   "cell_type": "code",
   "execution_count": 30,
   "metadata": {},
   "outputs": [
    {
     "name": "stdout",
     "output_type": "stream",
     "text": [
      "[1, 2, 3, 4, 5]\n"
     ]
    }
   ],
   "source": [
    "lista.pop(2) # elimina el elemento en el índice 2\n",
    "print(lista)"
   ]
  },
  {
   "cell_type": "code",
   "execution_count": 31,
   "metadata": {},
   "outputs": [
    {
     "name": "stdout",
     "output_type": "stream",
     "text": [
      "[1, 2, 4, 5]\n"
     ]
    }
   ],
   "source": [
    "lista = [1, 2, 3, 4, 5]\n",
    "lista.remove(3) # elimina el primer elemento con el valor 3\n",
    "print(lista)"
   ]
  },
  {
   "cell_type": "code",
   "execution_count": 32,
   "metadata": {},
   "outputs": [
    {
     "name": "stdout",
     "output_type": "stream",
     "text": [
      "[]\n"
     ]
    }
   ],
   "source": [
    "lista = [1, 2, 3, 4, 5]\n",
    "lista.clear() # elimina todos los elementos de la lista\n",
    "print(lista)"
   ]
  },
  {
   "cell_type": "markdown",
   "metadata": {},
   "source": [
    "Pueden consultar más sobre listas en este enlace: https://docs.python.org/3/tutorial/datastructures.html"
   ]
  },
  {
   "cell_type": "markdown",
   "metadata": {},
   "source": [
    "### Tuplas"
   ]
  },
  {
   "cell_type": "code",
   "execution_count": 33,
   "metadata": {},
   "outputs": [
    {
     "name": "stdout",
     "output_type": "stream",
     "text": [
      "(1, 2, 3, 4, 5)\n",
      "1\n",
      "(2, 3)\n",
      "5\n",
      "5\n"
     ]
    }
   ],
   "source": [
    "# Las tuplas son arreglos inmutables\n",
    "tupla = (1, 2, 3, 4, 5)\n",
    "print(tupla)\n",
    "print(tupla[0]) # imprime el primer elemento\n",
    "print(tupla[1:3]) # imprime los elementos desde el índice 1 hasta el 3 (sin incluirlo)\n",
    "print(tupla[-1]) # imprime el último elemento\n",
    "print(len(tupla)) # imprime la longitud de la tupla"
   ]
  },
  {
   "cell_type": "code",
   "execution_count": 34,
   "metadata": {},
   "outputs": [
    {
     "ename": "TypeError",
     "evalue": "'tuple' object does not support item assignment",
     "output_type": "error",
     "traceback": [
      "\u001b[0;31m---------------------------------------------------------------------------\u001b[0m",
      "\u001b[0;31mTypeError\u001b[0m                                 Traceback (most recent call last)",
      "Cell \u001b[0;32mIn[34], line 2\u001b[0m\n\u001b[1;32m      1\u001b[0m \u001b[38;5;66;03m# Las tuplas no pueden ser modificadas\u001b[39;00m\n\u001b[0;32m----> 2\u001b[0m \u001b[43mtupla\u001b[49m\u001b[43m[\u001b[49m\u001b[38;5;241;43m0\u001b[39;49m\u001b[43m]\u001b[49m \u001b[38;5;241m=\u001b[39m \u001b[38;5;241m6\u001b[39m \u001b[38;5;66;03m# causa error\u001b[39;00m\n",
      "\u001b[0;31mTypeError\u001b[0m: 'tuple' object does not support item assignment"
     ]
    }
   ],
   "source": [
    "# Las tuplas no pueden ser modificadas\n",
    "tupla[0] = 6 # causa error"
   ]
  },
  {
   "cell_type": "code",
   "execution_count": 35,
   "metadata": {},
   "outputs": [
    {
     "name": "stdout",
     "output_type": "stream",
     "text": [
      "2\n",
      "2\n",
      "True\n"
     ]
    }
   ],
   "source": [
    "# Metodos de tuplas\n",
    "tupla = (1, 2, 3, 4, 5, 3)\n",
    "print(tupla.index(3)) # imprime el primer índice del valor 3\n",
    "print(tupla.count(3)) # cuenta cuantas veces está el valor 3\n",
    "print(3 in tupla) # verifica si el valor 3 está en la tupla"
   ]
  },
  {
   "cell_type": "markdown",
   "metadata": {},
   "source": [
    "### Diccionarios"
   ]
  },
  {
   "cell_type": "code",
   "execution_count": 37,
   "metadata": {},
   "outputs": [
    {
     "name": "stdout",
     "output_type": "stream",
     "text": [
      "{'nombre': 'Juan', 'edad': 25, 'ciudad': 'Santiago'}\n"
     ]
    }
   ],
   "source": [
    "# Los diccionarios son arreglos asociativos, (JSON)\n",
    "diccionario = {\n",
    "    \"nombre\": \"Juan\", \n",
    "    \"edad\": 25, \n",
    "    \"ciudad\": \"Santiago\"\n",
    "}\n",
    "\n",
    "print(diccionario)"
   ]
  },
  {
   "cell_type": "code",
   "execution_count": 38,
   "metadata": {},
   "outputs": [
    {
     "name": "stdout",
     "output_type": "stream",
     "text": [
      "Juan\n",
      "25\n",
      "None\n",
      "Perez\n",
      "dict_keys(['nombre', 'edad', 'ciudad'])\n",
      "dict_values(['Juan', 25, 'Santiago'])\n"
     ]
    }
   ],
   "source": [
    "print(diccionario[\"nombre\"]) # imprime el valor asociado a la clave \"nombre\"\n",
    "print(diccionario.get(\"edad\")) # imprime el valor asociado a la clave \"edad\"\n",
    "print(diccionario.get(\"apellido\")) # retorna None si la clave no existe\n",
    "print(diccionario.get(\"apellido\", \"Perez\")) # retorna el valor por defecto si la clave no existe\n",
    "print(diccionario.keys()) # imprime las claves del diccionario\n",
    "print(diccionario.values()) # imprime los valores del diccionario"
   ]
  },
  {
   "cell_type": "code",
   "execution_count": 39,
   "metadata": {},
   "outputs": [
    {
     "name": "stdout",
     "output_type": "stream",
     "text": [
      "{'nombre': 'Diego', 'edad': 25, 'ciudad': 'Santiago'}\n"
     ]
    }
   ],
   "source": [
    "# Puedes modificar un valor asociado a una clave\n",
    "diccionario[\"nombre\"] = \"Diego\"\n",
    "print(diccionario)"
   ]
  },
  {
   "cell_type": "code",
   "execution_count": 40,
   "metadata": {},
   "outputs": [
    {
     "name": "stdout",
     "output_type": "stream",
     "text": [
      "{'nombre': 'Diego', 'edad': 25, 'ciudad': 'Santiago', 'apellido': 'Fernandez'}\n"
     ]
    }
   ],
   "source": [
    "# Puedes agregar una nueva clave con su valor\n",
    "diccionario[\"apellido\"] = \"Fernandez\"\n",
    "print(diccionario)\n"
   ]
  },
  {
   "cell_type": "code",
   "execution_count": 41,
   "metadata": {},
   "outputs": [
    {
     "name": "stdout",
     "output_type": "stream",
     "text": [
      "{'nombre': 'Diego', 'edad': 25, 'apellido': 'Fernandez'}\n"
     ]
    }
   ],
   "source": [
    "# Puedes eliminar una clave con su valor\n",
    "del diccionario[\"ciudad\"]\n",
    "print(diccionario)"
   ]
  },
  {
   "cell_type": "code",
   "execution_count": 42,
   "metadata": {},
   "outputs": [
    {
     "name": "stdout",
     "output_type": "stream",
     "text": [
      "25\n",
      "{'nombre': 'Juan', 'ciudad': 'Santiago'}\n"
     ]
    }
   ],
   "source": [
    "# Metodos de diccionarios\n",
    "diccionario = {\n",
    "    \"nombre\": \"Juan\", \n",
    "    \"edad\": 25, \n",
    "    \"ciudad\": \"Santiago\"\n",
    "}\n",
    "\n",
    "print(diccionario.pop(\"edad\")) # elimina la clave \"edad\" y retorna su valor\n",
    "print(diccionario)"
   ]
  },
  {
   "cell_type": "code",
   "execution_count": 43,
   "metadata": {},
   "outputs": [
    {
     "name": "stdout",
     "output_type": "stream",
     "text": [
      "nombre: Juan\n",
      "ciudad: Santiago\n"
     ]
    }
   ],
   "source": [
    "# Puedes recorrer un diccionario\n",
    "for key, value in diccionario.items():\n",
    "    print(f\"{key}: {value}\")"
   ]
  },
  {
   "cell_type": "markdown",
   "metadata": {},
   "source": [
    "Más información sobre diccionarios puede ser encontrada en este enlace: https://docs.python.org/3/tutorial/datastructures.html#dictionaries"
   ]
  }
 ],
 "metadata": {
  "kernelspec": {
   "display_name": "pandas-env",
   "language": "python",
   "name": "python3"
  },
  "language_info": {
   "codemirror_mode": {
    "name": "ipython",
    "version": 3
   },
   "file_extension": ".py",
   "mimetype": "text/x-python",
   "name": "python",
   "nbconvert_exporter": "python",
   "pygments_lexer": "ipython3",
   "version": "3.12.4"
  }
 },
 "nbformat": 4,
 "nbformat_minor": 2
}
